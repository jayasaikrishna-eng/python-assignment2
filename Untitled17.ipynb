{
 "cells": [
  {
   "cell_type": "markdown",
   "metadata": {},
   "source": [
    "1A: The two boolean data types are 'true' and 'false.\n",
    "    10>9 print true\n",
    "    10<9 print false"
   ]
  },
  {
   "cell_type": "markdown",
   "metadata": {},
   "source": [
    "2A: and,or,not are the three  type of operators"
   ]
  },
  {
   "cell_type": "markdown",
   "metadata": {},
   "source": [
    "3A: A      B      A OR B\n",
    "    true  true   true\n",
    "    false false  false\n",
    "    true  false  true\n",
    "    false true   true"
   ]
  },
  {
   "cell_type": "markdown",
   "metadata": {},
   "source": [
    "4A:3,4,5 are the values"
   ]
  },
  {
   "cell_type": "markdown",
   "metadata": {},
   "source": [
    "5A: The six different types of reference  operators are\n",
    "    assignment operator\n",
    "    arithematic ''\n",
    "    logical     ''\n",
    "    bitwise    ''\n",
    "    comparision ''\n",
    "    bitwise operator"
   ]
  },
  {
   "cell_type": "markdown",
   "metadata": {},
   "source": [
    "6A: assignment operator = it is used to assign a value to a variable,\n",
    "    equal to == it is used to compare two values"
   ]
  },
  {
   "cell_type": "markdown",
   "metadata": {},
   "source": [
    "7A:condition is used to execute a statement ,the program will execute depending on our given condition,they are three types of       conditions if,elif,else.if condition is used to check the statement the true or false, elif is used to execute true condition out of 2staements,else is used as optional statement  "
   ]
  },
  {
   "cell_type": "markdown",
   "metadata": {},
   "source": [
    "8A: spam=0\n",
    "    if spam==10:\n",
    "    if spam>5:"
   ]
  },
  {
   "cell_type": "code",
   "execution_count": null,
   "metadata": {},
   "outputs": [],
   "source": [
    "spam=int(input(\"enter a number\"))\n",
    "if spam==1:\n",
    "    print(\"hello\")\n",
    "    if spam==2:\n",
    "        print(\"howdy\")\n",
    "        if spam==3:\n",
    "            print(\"salutions\")\n",
    "else:\n",
    "    print(\"nothing\")\n",
    "\n",
    "    \n",
    "    9answer"
   ]
  },
  {
   "cell_type": "markdown",
   "metadata": {},
   "source": [
    "10A: ctrl+c"
   ]
  },
  {
   "cell_type": "markdown",
   "metadata": {},
   "source": [
    "11A: break statement used inside the loop to break or to exit the condition\n",
    "     continue statement is also used inside the loop ,to continue the next itteration"
   ]
  },
  {
   "cell_type": "markdown",
   "metadata": {},
   "source": [
    "12A: range(10) means range of first ten numbers in the loop\n",
    "     range(0,10) means range from 0 to 10 in a loop\n",
    "     range (0,10,1)means range from 0 to 10 by differnce of 1 "
   ]
  },
  {
   "cell_type": "code",
   "execution_count": 13,
   "metadata": {},
   "outputs": [
    {
     "name": "stdout",
     "output_type": "stream",
     "text": [
      "0\n",
      "1\n",
      "2\n",
      "3\n",
      "4\n",
      "5\n",
      "6\n",
      "7\n",
      "8\n",
      "9\n"
     ]
    }
   ],
   "source": [
    "for i in range (0,10):\n",
    "     print(i)\n"
   ]
  },
  {
   "cell_type": "code",
   "execution_count": null,
   "metadata": {},
   "outputs": [],
   "source": [
    "i=0\n",
    "while (i<=10):\n",
    "    print(i)\n",
    "    i=i+1\n",
    "    "
   ]
  },
  {
   "cell_type": "code",
   "execution_count": null,
   "metadata": {},
   "outputs": [],
   "source": []
  },
  {
   "cell_type": "code",
   "execution_count": null,
   "metadata": {},
   "outputs": [],
   "source": []
  }
 ],
 "metadata": {
  "kernelspec": {
   "display_name": "Python 3",
   "language": "python",
   "name": "python3"
  },
  "language_info": {
   "codemirror_mode": {
    "name": "ipython",
    "version": 3
   },
   "file_extension": ".py",
   "mimetype": "text/x-python",
   "name": "python",
   "nbconvert_exporter": "python",
   "pygments_lexer": "ipython3",
   "version": "3.8.5"
  }
 },
 "nbformat": 4,
 "nbformat_minor": 4
}
